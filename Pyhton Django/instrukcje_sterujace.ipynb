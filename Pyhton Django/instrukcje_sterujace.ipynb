{
 "cells": [
  {
   "cell_type": "markdown",
   "id": "c510ebd8",
   "metadata": {
    "pycharm": {
     "name": "#%% md\n"
    }
   },
   "source": [
    ">## Środowisko wirtualne\n",
    "\n",
    "Tworzenie środowiska wirtualnego\n",
    "\n",
    "    python -m venv myenv\n",
    "\n",
    "\n",
    "Aktywacja środowiska wirtualnego (Windows)\n",
    "\n",
    "    myenv\\Scripts\\activate.bat\n",
    "\n",
    "\n",
    "Deaktywacja środowiska wirtualnego (Windows)\n",
    "\n",
    "    myenv\\Scripts\\deactivate.bat"
   ]
  },
  {
   "cell_type": "markdown",
   "id": "b53e2356",
   "metadata": {
    "pycharm": {
     "name": "#%% md\n"
    }
   },
   "source": [
    "# Podstawowa składnia języka Python\n",
    "\n",
    ">## Pierwszy program"
   ]
  },
  {
   "cell_type": "code",
   "execution_count": 33,
   "id": "cfd00fc6",
   "metadata": {
    "pycharm": {
     "name": "#%%\n"
    }
   },
   "outputs": [
    {
     "name": "stdout",
     "output_type": "stream",
     "text": [
      "Hello World\n"
     ]
    }
   ],
   "source": [
    "\"\"\"\n",
    "Komentarz wieloliniowy\n",
    "\"\"\"\n",
    "\n",
    "'''\n",
    "Inna wersja komentarza wieloliniowego\n",
    "'''\n",
    "\n",
    "print('Hello World') # instrukcja wypisuje wyrażenie Hello World"
   ]
  },
  {
   "cell_type": "code",
   "execution_count": 15,
   "id": "e90a1eaa",
   "metadata": {
    "pycharm": {
     "name": "#%%\n"
    }
   },
   "outputs": [
    {
     "name": "stdout",
     "output_type": "stream",
     "text": [
      "Help on built-in function print in module builtins:\n",
      "\n",
      "print(...)\n",
      "    print(value, ..., sep=' ', end='\\n', file=sys.stdout, flush=False)\n",
      "    \n",
      "    Prints the values to a stream, or to sys.stdout by default.\n",
      "    Optional keyword arguments:\n",
      "    file:  a file-like object (stream); defaults to the current sys.stdout.\n",
      "    sep:   string inserted between values, default a space.\n",
      "    end:   string appended after the last value, default a newline.\n",
      "    flush: whether to forcibly flush the stream.\n",
      "\n"
     ]
    }
   ],
   "source": [
    "help(print)"
   ]
  },
  {
   "cell_type": "code",
   "execution_count": 38,
   "id": "a5602621",
   "metadata": {
    "pycharm": {
     "name": "#%%\n"
    }
   },
   "outputs": [
    {
     "data": {
      "text/plain": [
       "['__add__',\n",
       " '__class__',\n",
       " '__contains__',\n",
       " '__delattr__',\n",
       " '__dir__',\n",
       " '__doc__',\n",
       " '__eq__',\n",
       " '__format__',\n",
       " '__ge__',\n",
       " '__getattribute__',\n",
       " '__getitem__',\n",
       " '__getnewargs__',\n",
       " '__gt__',\n",
       " '__hash__',\n",
       " '__init__',\n",
       " '__init_subclass__',\n",
       " '__iter__',\n",
       " '__le__',\n",
       " '__len__',\n",
       " '__lt__',\n",
       " '__mod__',\n",
       " '__mul__',\n",
       " '__ne__',\n",
       " '__new__',\n",
       " '__reduce__',\n",
       " '__reduce_ex__',\n",
       " '__repr__',\n",
       " '__rmod__',\n",
       " '__rmul__',\n",
       " '__setattr__',\n",
       " '__sizeof__',\n",
       " '__str__',\n",
       " '__subclasshook__',\n",
       " 'capitalize',\n",
       " 'casefold',\n",
       " 'center',\n",
       " 'count',\n",
       " 'encode',\n",
       " 'endswith',\n",
       " 'expandtabs',\n",
       " 'find',\n",
       " 'format',\n",
       " 'format_map',\n",
       " 'index',\n",
       " 'isalnum',\n",
       " 'isalpha',\n",
       " 'isascii',\n",
       " 'isdecimal',\n",
       " 'isdigit',\n",
       " 'isidentifier',\n",
       " 'islower',\n",
       " 'isnumeric',\n",
       " 'isprintable',\n",
       " 'isspace',\n",
       " 'istitle',\n",
       " 'isupper',\n",
       " 'join',\n",
       " 'ljust',\n",
       " 'lower',\n",
       " 'lstrip',\n",
       " 'maketrans',\n",
       " 'partition',\n",
       " 'removeprefix',\n",
       " 'removesuffix',\n",
       " 'replace',\n",
       " 'rfind',\n",
       " 'rindex',\n",
       " 'rjust',\n",
       " 'rpartition',\n",
       " 'rsplit',\n",
       " 'rstrip',\n",
       " 'split',\n",
       " 'splitlines',\n",
       " 'startswith',\n",
       " 'strip',\n",
       " 'swapcase',\n",
       " 'title',\n",
       " 'translate',\n",
       " 'upper',\n",
       " 'zfill']"
      ]
     },
     "execution_count": 38,
     "metadata": {},
     "output_type": "execute_result"
    }
   ],
   "source": [
    "dir('Cześć')"
   ]
  },
  {
   "cell_type": "markdown",
   "id": "e161b613",
   "metadata": {
    "pycharm": {
     "name": "#%% md\n"
    }
   },
   "source": [
    ">### Konkatenacja"
   ]
  },
  {
   "cell_type": "code",
   "execution_count": 40,
   "id": "76efe90c",
   "metadata": {
    "pycharm": {
     "name": "#%%\n"
    }
   },
   "outputs": [
    {
     "name": "stdout",
     "output_type": "stream",
     "text": [
      "Hello World\n",
      "Hello World\n"
     ]
    }
   ],
   "source": [
    "print('Hello', 'World')\n",
    "print('Hello ' + 'World')"
   ]
  },
  {
   "cell_type": "markdown",
   "id": "b925614f",
   "metadata": {
    "pycharm": {
     "name": "#%% md\n"
    }
   },
   "source": [
    ">### Replikacja"
   ]
  },
  {
   "cell_type": "code",
   "execution_count": 35,
   "id": "4d8701ee",
   "metadata": {
    "pycharm": {
     "name": "#%%\n"
    }
   },
   "outputs": [
    {
     "name": "stdout",
     "output_type": "stream",
     "text": [
      "Wygrałeś! Wygrałeś! Wygrałeś! \n"
     ]
    }
   ],
   "source": [
    "print('Wygrałeś ' * 3)"
   ]
  },
  {
   "cell_type": "markdown",
   "id": "3ad12ec6",
   "metadata": {
    "pycharm": {
     "name": "#%% md\n"
    }
   },
   "source": [
    ">### Zmienne, stałe "
   ]
  },
  {
   "cell_type": "code",
   "execution_count": 80,
   "id": "0a15a046",
   "metadata": {
    "pycharm": {
     "name": "#%%\n"
    }
   },
   "outputs": [
    {
     "name": "stdout",
     "output_type": "stream",
     "text": [
      "Cześć Adam\n",
      "17.3\n"
     ]
    }
   ],
   "source": [
    "a = 5\n",
    "b = 23.71\n",
    "imie = 'Adam'\n",
    "b = 12.3\n",
    "print('Cześć', imie)\n",
    "print(a + b)"
   ]
  },
  {
   "cell_type": "code",
   "execution_count": 79,
   "id": "9794fbf7",
   "metadata": {
    "pycharm": {
     "name": "#%%\n"
    }
   },
   "outputs": [
    {
     "name": "stdout",
     "output_type": "stream",
     "text": [
      "5 12.4 czerwony\n"
     ]
    }
   ],
   "source": [
    "x, y, napis = 5, 12.4, 'czerwony'\n",
    "print(x, y, napis)"
   ]
  },
  {
   "cell_type": "code",
   "execution_count": 83,
   "id": "260f31e9",
   "metadata": {
    "pycharm": {
     "name": "#%%\n"
    }
   },
   "outputs": [
    {
     "name": "stdout",
     "output_type": "stream",
     "text": [
      "1\n"
     ]
    }
   ],
   "source": [
    "WYSOKOSC = 15 # stała \n",
    "WYSOKOSC = 1 # Python umożliwia zmianę wartości stałej w trakcie trwania programu\n",
    "print(WYSOKOSC)"
   ]
  },
  {
   "cell_type": "markdown",
   "id": "b9918b95",
   "metadata": {
    "pycharm": {
     "name": "#%% md\n"
    }
   },
   "source": [
    ">### Rzutowanie jawne i niejawne"
   ]
  },
  {
   "cell_type": "code",
   "execution_count": 62,
   "id": "91f83276",
   "metadata": {
    "pycharm": {
     "name": "#%%\n"
    }
   },
   "outputs": [
    {
     "data": {
      "text/plain": [
       "int"
      ]
     },
     "execution_count": 62,
     "metadata": {},
     "output_type": "execute_result"
    }
   ],
   "source": [
    "x1 = 12\n",
    "type(x1)"
   ]
  },
  {
   "cell_type": "code",
   "execution_count": 63,
   "id": "1583c638",
   "metadata": {
    "pycharm": {
     "name": "#%%\n"
    }
   },
   "outputs": [
    {
     "data": {
      "text/plain": [
       "float"
      ]
     },
     "execution_count": 63,
     "metadata": {},
     "output_type": "execute_result"
    }
   ],
   "source": [
    "x2 = 21.35\n",
    "type(x2)"
   ]
  },
  {
   "cell_type": "code",
   "execution_count": 64,
   "id": "55bd1033",
   "metadata": {
    "pycharm": {
     "name": "#%%\n"
    }
   },
   "outputs": [
    {
     "name": "stdout",
     "output_type": "stream",
     "text": [
      "33.35\n"
     ]
    },
    {
     "data": {
      "text/plain": [
       "float"
      ]
     },
     "execution_count": 64,
     "metadata": {},
     "output_type": "execute_result"
    }
   ],
   "source": [
    "print(x1 + x2) # niejawne rzutowanie zmiennej x1 na typ float\n",
    "type(x1 + x2)"
   ]
  },
  {
   "cell_type": "code",
   "execution_count": 65,
   "id": "5af5f4fb",
   "metadata": {
    "pycharm": {
     "name": "#%%\n"
    }
   },
   "outputs": [
    {
     "name": "stdout",
     "output_type": "stream",
     "text": [
      "33\n"
     ]
    },
    {
     "data": {
      "text/plain": [
       "int"
      ]
     },
     "execution_count": 65,
     "metadata": {},
     "output_type": "execute_result"
    }
   ],
   "source": [
    "print(x1 + int(x2)) # jawne rzutowanie zmiennej x2 na typ int\n",
    "type(x1 + int(x2))"
   ]
  },
  {
   "cell_type": "code",
   "execution_count": 71,
   "id": "ac3b7de3",
   "metadata": {
    "pycharm": {
     "name": "#%%\n"
    }
   },
   "outputs": [
    {
     "ename": "TypeError",
     "evalue": "can only concatenate str (not \"int\") to str",
     "output_type": "error",
     "traceback": [
      "\u001B[1;31m---------------------------------------------------------------------------\u001B[0m",
      "\u001B[1;31mTypeError\u001B[0m                                 Traceback (most recent call last)",
      "Cell \u001B[1;32mIn [71], line 1\u001B[0m\n\u001B[1;32m----> 1\u001B[0m \u001B[38;5;28mprint\u001B[39m(\u001B[38;5;124;43m'\u001B[39;49m\u001B[38;5;124;43mTo jest liczba \u001B[39;49m\u001B[38;5;124;43m'\u001B[39;49m\u001B[43m \u001B[49m\u001B[38;5;241;43m+\u001B[39;49m\u001B[43m \u001B[49m\u001B[43mx1\u001B[49m)\n",
      "\u001B[1;31mTypeError\u001B[0m: can only concatenate str (not \"int\") to str"
     ]
    }
   ],
   "source": [
    "print('To jest liczba ' + x1) # błąd spowodowany dodawaniem ciągu znaków do liczby całkowitej"
   ]
  },
  {
   "cell_type": "code",
   "execution_count": 72,
   "id": "c485cfa9",
   "metadata": {
    "pycharm": {
     "name": "#%%\n"
    }
   },
   "outputs": [
    {
     "name": "stdout",
     "output_type": "stream",
     "text": [
      "To jest liczba 12\n"
     ]
    }
   ],
   "source": [
    "print('To jest liczba ' + str(x1))"
   ]
  },
  {
   "cell_type": "markdown",
   "id": "22256884",
   "metadata": {
    "pycharm": {
     "name": "#%% md\n"
    }
   },
   "source": [
    ">### Formatowanie napisów"
   ]
  },
  {
   "cell_type": "code",
   "execution_count": 77,
   "id": "2000b63c",
   "metadata": {
    "pycharm": {
     "name": "#%%\n"
    }
   },
   "outputs": [
    {
     "name": "stdout",
     "output_type": "stream",
     "text": [
      "Alicja ma 2 psy i 3 koty.\n",
      "Alicja ma 2 psy i 3 koty.\n",
      "Alicja ma 3 psy i 2 koty.\n"
     ]
    }
   ],
   "source": [
    "# Wyrażenie formatujące \n",
    "print('Alicja ma %d psy i %d koty.' % (2,3))\n",
    "# Metoda format\n",
    "print('Alicja ma {} psy i {} koty.'.format(2,3))\n",
    "print('Alicja ma {1} psy i {0} koty.'.format(2,3))"
   ]
  },
  {
   "cell_type": "markdown",
   "id": "9dc39efc",
   "metadata": {
    "pycharm": {
     "name": "#%% md\n"
    }
   },
   "source": [
    ">### Strumień wejścia, wyjścia\n",
    "\n",
    "Poznana funkcja `print` służy do wypisywania danych na ekranie monitora.\n",
    "\n",
    "Natomiast do wprowadzania danych do naszego programu służy funkcja `input()`"
   ]
  },
  {
   "cell_type": "code",
   "execution_count": 26,
   "id": "ea02ded3",
   "metadata": {
    "pycharm": {
     "name": "#%%\n"
    }
   },
   "outputs": [
    {
     "name": "stdout",
     "output_type": "stream",
     "text": [
      "Podaj swoje imię:\n",
      "Paweł\n",
      "Jak masz na nazwisko?\n",
      "Malinowski\n",
      "Ile masz lat?\n",
      "35\n",
      "<class 'str'>\n",
      "Witaj Paweł Malinowski. Masz 35 lat.\n",
      "Witaj Paweł Malinowski. Masz 35 lat.\n"
     ]
    }
   ],
   "source": [
    "print('Podaj swoje imię:')\n",
    "imie = input()\n",
    "print('Jak masz na nazwisko?')\n",
    "nazwisko = input()\n",
    "print('Ile masz lat?')\n",
    "wiek = input()\n",
    "print(type(wiek))\n",
    "print('Witaj '+ imie, nazwisko + '. Masz ' + wiek + ' lat.')\n",
    "print('Witaj %s %s. Masz %d lat.' % (imie, nazwisko, int(wiek)))"
   ]
  },
  {
   "cell_type": "code",
   "execution_count": 27,
   "id": "5b20066b",
   "metadata": {
    "pycharm": {
     "name": "#%%\n"
    }
   },
   "outputs": [
    {
     "name": "stdout",
     "output_type": "stream",
     "text": [
      "Podaj imie: Paweł\n",
      "Podaj nazwisko: Malinowski\n",
      "Ile masz lat? 35\n",
      "Witaj Paweł Malinowski. Masz 35 lat.\n"
     ]
    }
   ],
   "source": [
    "imie = input('Podaj imie: ')\n",
    "nazwisko = input('Podaj nazwisko: ')\n",
    "wiek = input('Ile masz lat? ')\n",
    "print('Witaj {} {}. Masz {} lat.'.format(imie, nazwisko, wiek))"
   ]
  },
  {
   "cell_type": "markdown",
   "id": "8c4a752b",
   "metadata": {
    "pycharm": {
     "name": "#%% md\n"
    }
   },
   "source": [
    ">## Importowanie modułów\n",
    "\n",
    "Przed zaimportowaniem bibliotek należy je zainstalować z wykorzystaniem polecenia\n",
    "\n",
    "`pip install numpy pandas`\n",
    "\n",
    "Jeżeli korzystasz z Jupyter Notebook lub Google Colab skorzystaj z\n",
    "\n",
    "`!pip install numpy pandas`\n",
    "\n",
    "w celu skorzystania z poleceń powłoki wewnątrz Jupyter Notebook lub Google Colab"
   ]
  },
  {
   "cell_type": "code",
   "execution_count": 32,
   "id": "adf225d3",
   "metadata": {
    "pycharm": {
     "name": "#%%\n"
    }
   },
   "outputs": [],
   "source": [
    "import numpy as np # importuje całą bibliotekę numpy"
   ]
  },
  {
   "cell_type": "code",
   "execution_count": null,
   "id": "d5d70a60",
   "metadata": {
    "pycharm": {
     "name": "#%%\n"
    }
   },
   "outputs": [],
   "source": [
    "from pandas import DataFrame as df # importuje funkcję DataFrame z biblioteki pandas"
   ]
  },
  {
   "cell_type": "code",
   "execution_count": null,
   "outputs": [],
   "source": [
    ">## Instrukcja warunkowa if\n",
    "\n",
    "Podstawowa składnia\n",
    "\n",
    "    if warunek1:\n",
    "        <instrukcje1>\n",
    "    elif warunek2:\n",
    "        <instrukcje2>\n",
    "    else:\n",
    "        <instrukcje3>\n",
    "\n",
    "Przykład:\n",
    "\n",
    "    if a < 5:\n",
    "        b = 15\n",
    "        c = 23\n",
    "    elif a == 5:\n",
    "        b = 20\n",
    "        c = 28\n",
    "    else:\n",
    "        b = 0\n",
    "        c = 0"
   ],
   "metadata": {
    "collapsed": false,
    "pycharm": {
     "name": "#%%\n"
    }
   }
  },
  {
   "cell_type": "code",
   "execution_count": 22,
   "id": "4345c07a",
   "metadata": {
    "pycharm": {
     "name": "#%%\n"
    }
   },
   "outputs": [
    {
     "name": "stdout",
     "output_type": "stream",
     "text": [
      "15 23\n"
     ]
    }
   ],
   "source": [
    "a = 4 # podstaw pod zmienną a kolejno 4, 5 i 6. Sprawdź wyniki\n",
    "\n",
    "if a < 5:\n",
    "    b = 15\n",
    "    c = 23\n",
    "elif a == 5:\n",
    "    b = 20\n",
    "    c = 28\n",
    "else:\n",
    "    b = 0\n",
    "    c = 0\n",
    "    \n",
    "print(b,c)"
   ]
  },
  {
   "cell_type": "markdown",
   "id": "35917487",
   "metadata": {
    "pycharm": {
     "name": "#%% md\n"
    }
   },
   "source": [
    ">## Trójargumentowe wyrażenie if/else\n",
    "\n",
    "    if a == 5:\n",
    "        b = 10\n",
    "    else:\n",
    "        b = 11\n",
    "        \n",
    "    b = 10 if a == 5 else 11"
   ]
  },
  {
   "cell_type": "code",
   "execution_count": 29,
   "id": "ca262836",
   "metadata": {
    "pycharm": {
     "name": "#%%\n"
    }
   },
   "outputs": [
    {
     "name": "stdout",
     "output_type": "stream",
     "text": [
      "10\n",
      "10\n"
     ]
    }
   ],
   "source": [
    "a = 5 # podstaw pod zmienną a kolejno 4 i 5. Sprawdź wynik\n",
    "if a == 5:\n",
    "    b = 10\n",
    "else:\n",
    "    b = 11\n",
    "print(b)\n",
    "b = 10 if a == 5 else 11\n",
    "print(b)"
   ]
  },
  {
   "cell_type": "code",
   "execution_count": null,
   "id": "b6c0c79b",
   "metadata": {
    "pycharm": {
     "name": "#%%\n"
    }
   },
   "outputs": [],
   "source": []
  },
  {
   "cell_type": "markdown",
   "id": "a07f7959",
   "metadata": {
    "pycharm": {
     "name": "#%% md\n"
    }
   },
   "source": [
    ">## Sprawdzanie poprawności wprowadzanych danych wejściowych"
   ]
  },
  {
   "cell_type": "code",
   "execution_count": 16,
   "id": "6b8ccc13",
   "metadata": {
    "pycharm": {
     "name": "#%%\n"
    }
   },
   "outputs": [
    {
     "name": "stdout",
     "output_type": "stream",
     "text": [
      "Wprowadź liczbę: w\n",
      "Liczba nieprawidłowa\n"
     ]
    }
   ],
   "source": [
    "a = input('Wprowadź liczbę: ')\n",
    "if a.isdigit():\n",
    "    print('Liczba poprawna')\n",
    "else:\n",
    "    print('Liczba nieprawidłowa')"
   ]
  },
  {
   "cell_type": "code",
   "execution_count": 12,
   "id": "123d6d54",
   "metadata": {
    "pycharm": {
     "name": "#%%\n"
    }
   },
   "outputs": [
    {
     "name": "stdout",
     "output_type": "stream",
     "text": [
      "False\n"
     ]
    }
   ],
   "source": [
    "str2 = 'python'\n",
    "print(str2.isdigit())"
   ]
  },
  {
   "cell_type": "markdown",
   "id": "cf308d66",
   "metadata": {
    "pycharm": {
     "name": "#%% md\n"
    }
   },
   "source": [
    ">## Zadania\n",
    "---\n",
    ">***Zadanie 1.*** Napisz program, który sprawdzi czy wprowadzona liczba jest parzysta\n",
    "---\n",
    ">***Zadanie 2.*** Napisz program wyświetlający większą z dwóch liczb. Jeżeli liczby są równe program wyświetli informację, że liczby są równe.\n",
    "---\n",
    ">***Zadanie 3.*** Napisz program, który obliczy pierwiastki równania kwadratowego.\n",
    "---\n",
    ">***Zadanie 4.*** Napisz prosty kalkulator. Skorzystaj z biblioteki math. Sprawdź dokumentację biblioteki. Wczytaj dwie dowolne liczby, przeprowadź sprawdzenie ich poprawności i wykonaj następujące operacje:\n",
    ">\n",
    ">- dodawanie\n",
    ">- odejmowanie\n",
    ">- mnożenie\n",
    ">- dzielenie\n",
    ">- dzielenie całkowite\n",
    ">- reszta z dzielenia\n",
    ">- potęgowanie (a do potęgi b)\n",
    ">- pierwiastkowanie sumy\n",
    ">\n",
    ">Sprawdź warunek, zapobiegający dzieleniu przez zero.\n",
    ">Sprawdź warunek czy suma pod pierwiastkiem nie jest ujemna.\n",
    ">\n",
    ">Używaj komentarzy w programie.\n",
    "---\n",
    ">***Zadanie 5.*** Napisz program, który oblicza średnią arytmetyczną, geometryczną, ważoną oraz harmoniczną dla trzech dowolnych liczb. Przeprowadź weryfikację poprawności liczb oraz przy średniej ważonej wprowadź wagi z zakresu (1,3).\n",
    "---"
   ]
  }
 ],
 "metadata": {
  "kernelspec": {
   "display_name": "Python 3 (ipykernel)",
   "language": "python",
   "name": "python3"
  },
  "language_info": {
   "codemirror_mode": {
    "name": "ipython",
    "version": 3
   },
   "file_extension": ".py",
   "mimetype": "text/x-python",
   "name": "python",
   "nbconvert_exporter": "python",
   "pygments_lexer": "ipython3",
   "version": "3.10.5"
  }
 },
 "nbformat": 4,
 "nbformat_minor": 5
}